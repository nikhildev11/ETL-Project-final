{
 "cells": [
  {
   "cell_type": "markdown",
   "id": "ce6064e3",
   "metadata": {},
   "source": [
    "Extracting IQAir API "
   ]
  },
  {
   "cell_type": "code",
   "execution_count": 4,
   "id": "63a71a57",
   "metadata": {},
   "outputs": [
    {
     "name": "stdout",
     "output_type": "stream",
     "text": [
      "{'status': 'success', 'data': {'city': 'Delhi', 'state': 'Delhi', 'country': 'India', 'location': {'type': 'Point', 'coordinates': [77.1167, 28.6683]}, 'current': {'pollution': {'ts': '2025-06-08T10:00:00.000Z', 'aqius': 152, 'mainus': 'p2', 'aqicn': 120, 'maincn': 'p1'}, 'weather': {'ts': '2025-06-08T10:00:00.000Z', 'ic': '50d', 'hu': 20, 'pr': 1001, 'tp': 43, 'wd': 320, 'ws': 4.12}}}}\n"
     ]
    }
   ],
   "source": [
    "import requests\n",
    "url = \"https://api.airvisual.com/v2/city\"\n",
    "params = {\n",
    "    \"city\": \"Delhi\",\n",
    "    \"state\": \"Delhi\",\n",
    "    \"country\": \"India\",\n",
    "    \"key\": \"86a4d7ad-f925-44cc-a3a9-21e07f3f3041\"\n",
    "}\n",
    "data = requests.get(url, params=params).json()\n",
    "print(data)"
   ]
  },
  {
   "cell_type": "markdown",
   "id": "8bd52062",
   "metadata": {},
   "source": [
    "Cleaning and transform IQAir API "
   ]
  },
  {
   "cell_type": "code",
   "execution_count": 3,
   "id": "fb16572f",
   "metadata": {},
   "outputs": [
    {
     "name": "stdout",
     "output_type": "stream",
     "text": [
      "✅ Cleaned data:\n",
      "{'city': 'Delhi', 'state': 'Delhi', 'country': 'India', 'aqi': 151, 'pm_source': 'p2', 'timestamp': '2025-06-08T08:00:00.000Z', 'temperature': 41, 'humidity': 24, 'latitude': 28.6683, 'longitude': 77.1167}\n"
     ]
    }
   ],
   "source": [
    "\n",
    "if data[\"status\"] == \"success\":\n",
    "    pollution = data['data']['current']['pollution']\n",
    "    weather = data['data']['current']['weather']\n",
    "    coords = data['data']['location']['coordinates']\n",
    "\n",
    "    transformed = {\n",
    "        \"city\": data[\"data\"][\"city\"],\n",
    "        \"state\": data[\"data\"][\"state\"],\n",
    "        \"country\": data[\"data\"][\"country\"],\n",
    "        \"aqi\": pollution[\"aqius\"],\n",
    "        \"pm_source\": pollution[\"mainus\"],\n",
    "        \"timestamp\": pollution[\"ts\"],\n",
    "        \"temperature\": weather[\"tp\"],\n",
    "        \"humidity\": weather[\"hu\"],\n",
    "        \"latitude\": coords[1],\n",
    "        \"longitude\": coords[0]\n",
    "    }\n",
    "\n",
    "    print(\"✅ Cleaned data:\")\n",
    "    print(transformed)\n",
    "\n",
    "else:\n",
    "    print(\"❌ Failed to fetch data:\", data[\"data\"][\"message\"])\n"
   ]
  }
 ],
 "metadata": {
  "kernelspec": {
   "display_name": "base",
   "language": "python",
   "name": "python3"
  },
  "language_info": {
   "codemirror_mode": {
    "name": "ipython",
    "version": 3
   },
   "file_extension": ".py",
   "mimetype": "text/x-python",
   "name": "python",
   "nbconvert_exporter": "python",
   "pygments_lexer": "ipython3",
   "version": "3.12.7"
  }
 },
 "nbformat": 4,
 "nbformat_minor": 5
}
