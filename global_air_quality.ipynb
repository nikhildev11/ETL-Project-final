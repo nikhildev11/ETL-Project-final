{
 "cells": [
  {
   "cell_type": "code",
   "execution_count": 2,
   "id": "17910347",
   "metadata": {},
   "outputs": [
    {
     "name": "stdout",
     "output_type": "stream",
     "text": [
      "{'status': 'success', 'data': {'city': 'Delhi', 'state': 'Delhi', 'country': 'India', 'location': {'type': 'Point', 'coordinates': [77.1167, 28.6683]}, 'current': {'pollution': {'ts': '2025-06-08T08:00:00.000Z', 'aqius': 151, 'mainus': 'p2', 'aqicn': 112, 'maincn': 'p1'}, 'weather': {'ts': '2025-06-08T08:00:00.000Z', 'ic': '50d', 'hu': 24, 'pr': 1003, 'tp': 41, 'wd': 0, 'ws': 1.03}}}}\n"
     ]
    }
   ],
   "source": [
    "import requests\n",
    "url = \"https://api.airvisual.com/v2/city\"\n",
    "params = {\n",
    "    \"city\": \"Delhi\",\n",
    "    \"state\": \"Delhi\",\n",
    "    \"country\": \"India\",\n",
    "    \"key\": \"86a4d7ad-f925-44cc-a3a9-21e07f3f3041\"\n",
    "}\n",
    "data = requests.get(url, params=params).json()\n",
    "print(data)\n",
    "\n"
   ]
  },
  {
   "cell_type": "code",
   "execution_count": null,
   "id": "fb16572f",
   "metadata": {},
   "outputs": [],
   "source": []
  }
 ],
 "metadata": {
  "kernelspec": {
   "display_name": "base",
   "language": "python",
   "name": "python3"
  },
  "language_info": {
   "codemirror_mode": {
    "name": "ipython",
    "version": 3
   },
   "file_extension": ".py",
   "mimetype": "text/x-python",
   "name": "python",
   "nbconvert_exporter": "python",
   "pygments_lexer": "ipython3",
   "version": "3.12.7"
  }
 },
 "nbformat": 4,
 "nbformat_minor": 5
}
