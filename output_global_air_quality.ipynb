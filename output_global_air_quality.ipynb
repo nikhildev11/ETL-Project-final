{
 "cells": [
  {
   "cell_type": "markdown",
   "id": "178f52b3",
   "metadata": {
    "tags": [
     "papermill-error-cell-tag"
    ]
   },
   "source": [
    "<span style=\"color:red; font-family:Helvetica Neue, Helvetica, Arial, sans-serif; font-size:2em;\">An Exception was encountered at '<a href=\"#papermill-error-cell\">In [4]</a>'.</span>"
   ]
  },
  {
   "cell_type": "markdown",
   "id": "a18ebbee",
   "metadata": {
    "papermill": {
     "duration": 0.004831,
     "end_time": "2025-06-10T19:31:57.697224",
     "exception": false,
     "start_time": "2025-06-10T19:31:57.692393",
     "status": "completed"
    },
    "tags": []
   },
   "source": [
    "# 🌍 Global Air Quality Tracker\n",
    "\n",
    "This project uses the IQAir API to fetch real-time air quality data from global cities, stores the data in MongoDB, and prepares it for visualization in Power BI or Tableau.\n",
    "\n",
    "**ETL Flow:**\n",
    "\n",
    "1. Extract air quality data from IQAir API\n",
    "2. Transform & normalize the data\n",
    "3. Load into MongoDB\n",
    "4. Visualize on Power BI or Tableau Public"
   ]
  },
  {
   "cell_type": "markdown",
   "id": "73d17df4",
   "metadata": {
    "papermill": {
     "duration": 0.001269,
     "end_time": "2025-06-10T19:31:57.701366",
     "exception": false,
     "start_time": "2025-06-10T19:31:57.700097",
     "status": "completed"
    },
    "tags": []
   },
   "source": [
    "Load Environment Variables and Required Libraries\n",
    "\n",
    "We import essential libraries to interact with the IQAir API and manage credentials securely.\n",
    "\n",
    "- `os` and `dotenv`: Load environment variables from a `.env` file so sensitive information like API keys is not hardcoded.\n",
    "- `requests`: Used to make HTTP requests to the IQAir API."
   ]
  },
  {
   "cell_type": "code",
   "execution_count": 1,
   "id": "c081af36",
   "metadata": {
    "execution": {
     "iopub.execute_input": "2025-06-10T19:31:57.705030Z",
     "iopub.status.busy": "2025-06-10T19:31:57.704720Z",
     "iopub.status.idle": "2025-06-10T19:31:58.428689Z",
     "shell.execute_reply": "2025-06-10T19:31:58.428366Z"
    },
    "papermill": {
     "duration": 0.727139,
     "end_time": "2025-06-10T19:31:58.429822",
     "exception": false,
     "start_time": "2025-06-10T19:31:57.702683",
     "status": "completed"
    },
    "tags": []
   },
   "outputs": [],
   "source": [
    "import os\n",
    "from dotenv import load_dotenv\n",
    "import requests\n",
    "import pymongo\n",
    "import pandas as pd\n",
    "import time"
   ]
  },
  {
   "cell_type": "code",
   "execution_count": 2,
   "id": "d6be4e30",
   "metadata": {
    "execution": {
     "iopub.execute_input": "2025-06-10T19:31:58.432785Z",
     "iopub.status.busy": "2025-06-10T19:31:58.432580Z",
     "iopub.status.idle": "2025-06-10T19:31:58.443227Z",
     "shell.execute_reply": "2025-06-10T19:31:58.442744Z"
    },
    "papermill": {
     "duration": 0.013455,
     "end_time": "2025-06-10T19:31:58.444531",
     "exception": false,
     "start_time": "2025-06-10T19:31:58.431076",
     "status": "completed"
    },
    "tags": []
   },
   "outputs": [],
   "source": [
    "load_dotenv()\n",
    "API_KEY = os.getenv(\"API_KEY\")\n",
    "BASE_URL = os.getenv(\"BASE_URL\")\n",
    "MONGO_URI = os.getenv(\"MONGO_URI\", \"mongodb://localhost:27017/\")\n",
    "client = pymongo.MongoClient(MONGO_URI)\n",
    "db = client[os.getenv(\"MONGO_DB_NAME\")]"
   ]
  },
  {
   "cell_type": "markdown",
   "id": "ce6064e3",
   "metadata": {
    "papermill": {
     "duration": 0.000798,
     "end_time": "2025-06-10T19:31:58.446245",
     "exception": false,
     "start_time": "2025-06-10T19:31:58.445447",
     "status": "completed"
    },
    "tags": []
   },
   "source": [
    "Populating Array with Cities Reuqired for Report"
   ]
  },
  {
   "cell_type": "code",
   "execution_count": 3,
   "id": "63a71a57",
   "metadata": {
    "execution": {
     "iopub.execute_input": "2025-06-10T19:31:58.449295Z",
     "iopub.status.busy": "2025-06-10T19:31:58.449030Z",
     "iopub.status.idle": "2025-06-10T19:31:58.451537Z",
     "shell.execute_reply": "2025-06-10T19:31:58.450924Z"
    },
    "papermill": {
     "duration": 0.005019,
     "end_time": "2025-06-10T19:31:58.452464",
     "exception": false,
     "start_time": "2025-06-10T19:31:58.447445",
     "status": "completed"
    },
    "tags": []
   },
   "outputs": [],
   "source": [
    "# Fetching the list of German cities and their states\n",
    "country = \"Germany\"\n",
    "collection = db[\"germany_cities_states\"]\n"
   ]
  },
  {
   "cell_type": "markdown",
   "id": "3c800f3c",
   "metadata": {
    "tags": [
     "papermill-error-cell-tag"
    ]
   },
   "source": [
    "<span id=\"papermill-error-cell\" style=\"color:red; font-family:Helvetica Neue, Helvetica, Arial, sans-serif; font-size:2em;\">Execution using papermill encountered an exception here and stopped:</span>"
   ]
  },
  {
   "cell_type": "code",
   "execution_count": 4,
   "id": "aac37995",
   "metadata": {
    "execution": {
     "iopub.execute_input": "2025-06-10T19:31:58.455280Z",
     "iopub.status.busy": "2025-06-10T19:31:58.455156Z",
     "iopub.status.idle": "2025-06-10T19:31:59.223070Z",
     "shell.execute_reply": "2025-06-10T19:31:59.222118Z"
    },
    "papermill": {
     "duration": 0.770816,
     "end_time": "2025-06-10T19:31:59.224441",
     "exception": true,
     "start_time": "2025-06-10T19:31:58.453625",
     "status": "failed"
    },
    "tags": []
   },
   "outputs": [
    {
     "name": "stdout",
     "output_type": "stream",
     "text": [
      "<Response [429]>\n"
     ]
    },
    {
     "ename": "TypeError",
     "evalue": "string indices must be integers, not 'str'",
     "output_type": "error",
     "traceback": [
      "\u001b[0;31m---------------------------------------------------------------------------\u001b[0m",
      "\u001b[0;31mTypeError\u001b[0m                                 Traceback (most recent call last)",
      "Cell \u001b[0;32mIn[4], line 7\u001b[0m\n\u001b[1;32m      4\u001b[0m \u001b[38;5;28mprint\u001b[39m(states_response)\n\u001b[1;32m      5\u001b[0m states_data \u001b[38;5;241m=\u001b[39m states_response\u001b[38;5;241m.\u001b[39mjson()\n\u001b[0;32m----> 7\u001b[0m states \u001b[38;5;241m=\u001b[39m [state[\u001b[38;5;124m'\u001b[39m\u001b[38;5;124mstate\u001b[39m\u001b[38;5;124m'\u001b[39m] \u001b[38;5;28;01mfor\u001b[39;00m state \u001b[38;5;129;01min\u001b[39;00m states_data[\u001b[38;5;124m'\u001b[39m\u001b[38;5;124mdata\u001b[39m\u001b[38;5;124m'\u001b[39m]]\n",
      "\u001b[0;31mTypeError\u001b[0m: string indices must be integers, not 'str'"
     ]
    }
   ],
   "source": [
    "# Step 1: Get all states in Germany\n",
    "states_url = f\"{BASE_URL}/v2/states?country={country}&key={API_KEY}\"\n",
    "states_response = requests.get(states_url)\n",
    "print(states_response)\n",
    "states_data = states_response.json()\n",
    "\n",
    "states = [state['state'] for state in states_data['data']]"
   ]
  },
  {
   "cell_type": "code",
   "execution_count": null,
   "id": "25a21426",
   "metadata": {
    "papermill": {
     "duration": null,
     "end_time": null,
     "exception": null,
     "start_time": null,
     "status": "pending"
    },
    "tags": []
   },
   "outputs": [],
   "source": [
    "# Step 2: For each state, get all cities (with rate limiting)\n",
    "all_cities = []\n",
    "for state in states:\n",
    "    cities_url = f\"{BASE_URL}/v2/cities?state={state}&country={country}&key={API_KEY}\"\n",
    "    cities_response = requests.get(cities_url)\n",
    "    print(cities_response)\n",
    "    if cities_response.status_code == 429:\n",
    "        print(f\"Rate limit hit for state {state}. Waiting 60 seconds...\")\n",
    "        time.sleep(60)\n",
    "        cities_response = requests.get(cities_url)\n",
    "    cities_data = cities_response.json()\n",
    "    cities = [city['city'] for city in cities_data['data']]\n",
    "    for city in cities:\n",
    "        all_cities.append({\"country\": country, \"state\": state, \"city\": city})"
   ]
  },
  {
   "cell_type": "code",
   "execution_count": null,
   "id": "fb16572f",
   "metadata": {
    "papermill": {
     "duration": null,
     "end_time": null,
     "exception": null,
     "start_time": null,
     "status": "pending"
    },
    "tags": []
   },
   "outputs": [],
   "source": [
    "# Step 3: Store in MongoDB\n",
    "if all_cities:\n",
    "    collection.delete_many({})\n",
    "    collection.insert_many(all_cities)\n",
    "    print(f\"Inserted {len(all_cities)} city-state pairs into MongoDB.\")\n",
    "else:\n",
    "    print(\"No cities found.\")"
   ]
  },
  {
   "cell_type": "code",
   "execution_count": null,
   "id": "ea2684de",
   "metadata": {
    "papermill": {
     "duration": null,
     "end_time": null,
     "exception": null,
     "start_time": null,
     "status": "pending"
    },
    "tags": []
   },
   "outputs": [],
   "source": [
    "# # Extract air quality data for all German cities and store in MongoDB\n",
    "\n",
    "# source_collection = db[\"germany_cities_states\"]\n",
    "# target_collection = db[\"germany_city_air_quality\"]\n",
    "\n",
    "# city_docs = list(source_collection.find({}))\n",
    "\n",
    "# for doc in city_docs:\n",
    "#     city = doc[\"city\"]\n",
    "#     state = doc[\"state\"]\n",
    "#     country = doc[\"country\"]\n",
    "#     url = f\"{BASE_URL}/v2/city?city={city}&state={state}&country={country}&key={API_KEY}\"\n",
    "\n",
    "#     response = requests.get(url)\n",
    "#     if response.status_code == 429:\n",
    "#         print(f\"Rate limit hit for {city}, {state}. Waiting 60 seconds...\")\n",
    "#         time.sleep(60)\n",
    "#         response = requests.get(url)\n",
    "\n",
    "#     if response.status_code == 200:\n",
    "#         data = response.json()\n",
    "#         target_collection.update_one(\n",
    "#             {\"city\": city, \"state\": state, \"country\": country},\n",
    "#             {\"$set\": {\"data\": data}},\n",
    "#             upsert=True\n",
    "#         )\n",
    "#         print(f\"Stored air quality for {city}, {state}\")\n",
    "#     else:\n",
    "#         print(f\"Failed for {city}, {state}: {response.status_code}\")"
   ]
  },
  {
   "cell_type": "code",
   "execution_count": null,
   "id": "61c41913",
   "metadata": {
    "papermill": {
     "duration": null,
     "end_time": null,
     "exception": null,
     "start_time": null,
     "status": "pending"
    },
    "tags": []
   },
   "outputs": [],
   "source": [
    "# # Fetch all records from MongoDB\n",
    "# records = list(db[\"germany_city_air_quality\"].find({}))\n",
    "\n",
    "# # Normalize nested fields for DataFrame\n",
    "# def extract_current_fields(doc):\n",
    "#     try:\n",
    "#         current = doc.get(\"data\", {}).get(\"data\", {}).get(\"current\", {})\n",
    "#         weather = current.get(\"weather\", {})\n",
    "#         pollution = current.get(\"pollution\", {})\n",
    "#         return {\n",
    "#             \"city\": doc.get(\"city\"),\n",
    "#             \"state\": doc.get(\"state\"),\n",
    "#             \"country\": doc.get(\"country\"),\n",
    "#             **{f\"weather_{k}\": weather.get(k) for k in [\"ts\", \"ic\", \"hu\", \"pr\", \"tp\", \"wd\", \"ws\"]},\n",
    "#             **{f\"pollution_{k}\": pollution.get(k) for k in [\"ts\", \"aqius\", \"mainus\", \"aqicn\", \"maincn\"]}\n",
    "#         }\n",
    "#     except Exception as e:\n",
    "#         return {\"error\": str(e)}\n",
    "\n",
    "# df = pd.DataFrame([extract_current_fields(doc) for doc in records])\n",
    "\n",
    "# # Check for missing values in weather and pollution columns\n",
    "# weather_cols = [col for col in df.columns if col.startswith(\"weather_\")]\n",
    "# pollution_cols = [col for col in df.columns if col.startswith(\"pollution_\")]\n",
    "\n",
    "# print(\"Missing values in weather columns:\")\n",
    "# print(df[weather_cols].isnull().sum())\n",
    "\n",
    "# print(\"\\nMissing values in pollution columns:\")\n",
    "# print(df[pollution_cols].isnull().sum())\n",
    "\n",
    "# # Show rows with any missing weather or pollution data\n",
    "# missing = df[df[weather_cols + pollution_cols].isnull().any(axis=1)]\n",
    "# print(f\"\\nRows with missing or inconsistent data: {len(missing)}\")\n",
    "# display(missing.head())\n",
    "\n",
    "# cleaned_df = df.fillna({col: \"MISSING\" for col in weather_cols + pollution_cols})\n",
    "\n",
    "# # Convert DataFrame records to dictionaries for MongoDB\n",
    "# cleaned_records = cleaned_df.to_dict(orient=\"records\")\n",
    "\n",
    "# # Insert into a new MongoDB collection\n",
    "# cleaned_collection = db[\"germany_city_air_quality_cleaned\"]\n",
    "# cleaned_collection.delete_many({})  # Clear previous data if any\n",
    "# if cleaned_records:\n",
    "#     cleaned_collection.insert_many(cleaned_records)\n",
    "#     print(f\"Inserted {len(cleaned_records)} cleaned records into 'germany_city_air_quality_cleaned'.\")\n",
    "# else:\n",
    "#     print(\"No cleaned records to insert.\")"
   ]
  }
 ],
 "metadata": {
  "kernelspec": {
   "display_name": "base",
   "language": "python",
   "name": "python3"
  },
  "language_info": {
   "codemirror_mode": {
    "name": "ipython",
    "version": 3
   },
   "file_extension": ".py",
   "mimetype": "text/x-python",
   "name": "python",
   "nbconvert_exporter": "python",
   "pygments_lexer": "ipython3",
   "version": "3.12.7"
  },
  "papermill": {
   "default_parameters": {},
   "duration": 3.173647,
   "end_time": "2025-06-10T19:31:59.750675",
   "environment_variables": {},
   "exception": true,
   "input_path": "global_air_quality.ipynb",
   "output_path": "output_global_air_quality.ipynb",
   "parameters": {},
   "start_time": "2025-06-10T19:31:56.577028",
   "version": "2.6.0"
  }
 },
 "nbformat": 4,
 "nbformat_minor": 5
}